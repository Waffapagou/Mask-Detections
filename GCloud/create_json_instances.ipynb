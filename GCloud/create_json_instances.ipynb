{
 "cells": [
  {
   "cell_type": "code",
   "execution_count": 10,
   "metadata": {},
   "outputs": [],
   "source": [
    "import json\n",
    "import numpy as np\n",
    "import PIL\n",
    "import os\n",
    "import tensorflow as tf"
   ]
  },
  {
   "cell_type": "code",
   "execution_count": null,
   "metadata": {},
   "outputs": [],
   "source": [
    "load_model = tf.keras.models.load_model(\"trained_model_tf\")"
   ]
  },
  {
   "cell_type": "code",
   "execution_count": 21,
   "metadata": {},
   "outputs": [],
   "source": [
    "HEIGHT = 120\n",
    "WEIGHT = 120\n",
    "\n",
    "def store_instance(input_dir):\n",
    "    \n",
    "    fullimg = []\n",
    "    for dirname, _, filenames in os.walk(input_dir): #predict dir\n",
    "        for filename in filenames:\n",
    "            fullimg.append(os.path.join(dirname, filename))\n",
    "        \n",
    "\n",
    "    \n",
    "    all_img = []\n",
    "    for i in range(len(fullimg)):\n",
    "        img_path = fullimg[i]\n",
    "        pil_img = PIL.Image.open(img_path)\n",
    "        test_img = tf.keras.preprocessing.image.img_to_array(pil_img)\n",
    "        test_img = tf.image.resize(test_img, [HEIGHT,WEIGHT],antialias=True) #resize\n",
    "        test_img = test_img.numpy().tolist()\n",
    "        all_img.append(test_img)\n",
    "        \n",
    "    x_test = [{\"values\": all_img, \"key\": 0}]\n",
    "    \n",
    "    data = {\"instances\": x_test} #x_test liste de values/key {\"values\": [1, 2, 3, 4], \"key\": 1}\n",
    "    #dans notre cas values est un tensor 4 dim\n",
    "\n",
    "    \n",
    "    with open(\"instances.json\",\"w\") as write_file:\n",
    "        json.dump(data, write_file)\n",
    "        \n",
    "    return data, all_img\n"
   ]
  },
  {
   "cell_type": "code",
   "execution_count": null,
   "metadata": {},
   "outputs": [],
   "source": [
    "#test\n",
    "input_dir = \"predict\"\n",
    "data, all_img = store_instance(input_dir)\n",
    "load_model.predict(all_img)"
   ]
  },
  {
   "cell_type": "code",
   "execution_count": null,
   "metadata": {},
   "outputs": [],
   "source": []
  }
 ],
 "metadata": {
  "kernelspec": {
   "display_name": "Python 3",
   "language": "python",
   "name": "python3"
  },
  "language_info": {
   "codemirror_mode": {
    "name": "ipython",
    "version": 3
   },
   "file_extension": ".py",
   "mimetype": "text/x-python",
   "name": "python",
   "nbconvert_exporter": "python",
   "pygments_lexer": "ipython3",
   "version": "3.7.6"
  }
 },
 "nbformat": 4,
 "nbformat_minor": 4
}
